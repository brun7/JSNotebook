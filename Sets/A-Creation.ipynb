{
 "cells": [
  {
   "cell_type": "markdown",
   "metadata": {},
   "source": [
    "FASTER JavaScript in 2025 with Sets\n",
    "https://www.youtube.com/watch?v=zSeGG-SCm8s"
   ]
  },
  {
   "cell_type": "code",
   "execution_count": 6,
   "metadata": {},
   "outputs": [
    {
     "name": "stdout",
     "output_type": "stream",
     "text": [
      "Set(0) {}\n",
      "Set(2) { 1, 2 }\n",
      "Set(3) { 3, 2, 1 }\n"
     ]
    }
   ],
   "source": [
    "const set1 = new Set();\n",
    "console.log(set1);\n",
    "\n",
    "set1.add(1);\n",
    "set1.add(2);\n",
    "set1.add(1);\n",
    "console.log(set1);\n",
    "\n",
    "const set2 = new Set([3,2,1,1,2]);\n",
    "console.log(set2);"
   ]
  },
  {
   "cell_type": "code",
   "execution_count": 7,
   "metadata": {},
   "outputs": [
    {
     "name": "stdout",
     "output_type": "stream",
     "text": [
      "Set(10) { 1, 2, 3, 4, 5, 6, 7, 8, 9, 10 }\n",
      "Set(11) { 1, 2, 3, 4, 5, 6, 7, 8, 9, 10, 15 }\n"
     ]
    }
   ],
   "source": [
    "const set3 = new Set([1,2,3,4,5,6,7,8,9,10]);\n",
    "const set4 = new Set(set3);\n",
    "set4.add(15)\n",
    "\n",
    "console.log(set3);\n",
    "console.log(set4);"
   ]
  },
  {
   "cell_type": "code",
   "execution_count": 8,
   "metadata": {},
   "outputs": [
    {
     "name": "stdout",
     "output_type": "stream",
     "text": [
      "Set(3) { 3, 2, 1 }\n",
      "Set(0) {}\n"
     ]
    }
   ],
   "source": [
    "const set5 = new Set([3,2,1,1,2]);\n",
    "console.log(set5);\n",
    "set5.clear();\n",
    "console.log(set5);"
   ]
  },
  {
   "cell_type": "code",
   "execution_count": 9,
   "metadata": {},
   "outputs": [
    {
     "name": "stdout",
     "output_type": "stream",
     "text": [
      "Set(3) { 3, 2, 1 }\n",
      "Set(2) { 3, 1 }\n"
     ]
    }
   ],
   "source": [
    "const set6 = new Set([3,2,1,1,2]);\n",
    "console.log(set6);\n",
    "set6.delete(2);\n",
    "console.log(set6);"
   ]
  },
  {
   "cell_type": "code",
   "execution_count": 10,
   "metadata": {},
   "outputs": [
    {
     "name": "stdout",
     "output_type": "stream",
     "text": [
      "[\n",
      "  1, 2, 3, 4,  5,\n",
      "  6, 7, 8, 9, 10\n",
      "]\n",
      "[\n",
      "  1, 2, 3, 4,  5,\n",
      "  6, 7, 8, 9, 10\n",
      "]\n"
     ]
    }
   ],
   "source": [
    "const set7 = new Set([1,2,3,4,5,6,7,8,9,10]);\n",
    "console.log(Array.from(set7));\n",
    "console.log([...set7]);"
   ]
  }
 ],
 "metadata": {
  "kernelspec": {
   "display_name": "Deno",
   "language": "typescript",
   "name": "deno"
  },
  "language_info": {
   "codemirror_mode": "typescript",
   "file_extension": ".ts",
   "mimetype": "text/x.typescript",
   "name": "typescript",
   "nbconvert_exporter": "script",
   "pygments_lexer": "typescript",
   "version": "5.6.2"
  }
 },
 "nbformat": 4,
 "nbformat_minor": 2
}
