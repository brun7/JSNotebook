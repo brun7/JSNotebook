{
 "cells": [
  {
   "cell_type": "code",
   "execution_count": 1,
   "metadata": {},
   "outputs": [
    {
     "data": {
      "text/plain": [
       "\u001b[33m4\u001b[39m"
      ]
     },
     "execution_count": 1,
     "metadata": {},
     "output_type": "execute_result"
    }
   ],
   "source": [
    "const set1 = new Set([10,20,100,200]);\n",
    "set1.size"
   ]
  },
  {
   "cell_type": "code",
   "execution_count": 2,
   "metadata": {},
   "outputs": [
    {
     "name": "stdout",
     "output_type": "stream",
     "text": [
      "10: true\n",
      "100: true\n",
      "1000: false\n"
     ]
    }
   ],
   "source": [
    "const set2 = new Set([10,20,100,200]);\n",
    "console.log(\"10:\", set2.has(10));\n",
    "console.log(\"100:\", set2.has(100));\n",
    "console.log(\"1000:\", set2.has(1000));"
   ]
  },
  {
   "cell_type": "code",
   "execution_count": 3,
   "metadata": {},
   "outputs": [
    {
     "name": "stdout",
     "output_type": "stream",
     "text": [
      "Entries: [Set Entries] {\n",
      "  [ \"Jane\", \"Jane\" ],\n",
      "  [ \"John\", \"John\" ],\n",
      "  [ \"Jim\", \"Jim\" ],\n",
      "  [ \"Jill\", \"Jill\" ]\n",
      "}\n",
      "Keys: [Set Iterator] { \"Jane\", \"John\", \"Jim\", \"Jill\" }\n",
      "Values: [Set Iterator] { \"Jane\", \"John\", \"Jim\", \"Jill\" }\n"
     ]
    }
   ],
   "source": [
    "const set3 = new Set(['Jane', \"John\", 'Jim', \"Jill\"]);\n",
    "console.log('Entries:', set3.entries());\n",
    "console.log('Keys:', set3.keys());\n",
    "console.log('Values:', set3.values());"
   ]
  },
  {
   "cell_type": "code",
   "execution_count": 4,
   "metadata": {},
   "outputs": [
    {
     "name": "stdout",
     "output_type": "stream",
     "text": [
      "Jane\n",
      "John\n",
      "Jim\n",
      "Jill\n",
      "Jane\n",
      "John\n",
      "Jim\n",
      "Jill\n"
     ]
    }
   ],
   "source": [
    "const set4 = new Set([\"Jane\", \"John\", \"Jim\", \"Jill\"]);\n",
    "set4.forEach((value) => console.log(value));\n",
    "\n",
    "for(const valule of set4) {\n",
    "  console.log(valule);\n",
    "}"
   ]
  }
 ],
 "metadata": {
  "kernelspec": {
   "display_name": "Deno",
   "language": "typescript",
   "name": "deno"
  },
  "language_info": {
   "codemirror_mode": "typescript",
   "file_extension": ".ts",
   "mimetype": "text/x.typescript",
   "name": "typescript",
   "nbconvert_exporter": "script",
   "pygments_lexer": "typescript",
   "version": "5.6.2"
  }
 },
 "nbformat": 4,
 "nbformat_minor": 2
}
