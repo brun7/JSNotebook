{
 "cells": [
  {
   "cell_type": "code",
   "execution_count": 1,
   "metadata": {},
   "outputs": [
    {
     "name": "stdout",
     "output_type": "stream",
     "text": [
      "Union: Set(9) { 1, 2, 3, 4, 5, 6, 10, 50, 60 }\n",
      "Intersection Set(2) { 2, 3 }\n",
      "Difference: Set(4) { 1, 4, 5, 6 }\n",
      "Symmetric Difference: Set(7) { 1, 4, 5, 6, 10, 50, 60 }\n"
     ]
    }
   ],
   "source": [
    "const setA = new Set([1,2,3,4,5,6]);\n",
    "const setB = new Set([2,3,10,50,60]);\n",
    "console.log('Union:', setA.union(setB));\n",
    "console.log('Intersection', setA.intersection(setB));\n",
    "console.log('Difference:', setA.difference(setB));\n",
    "console.log('Symmetric Difference:', setA.symmetricDifference(setB));"
   ]
  },
  {
   "cell_type": "code",
   "execution_count": 6,
   "metadata": {},
   "outputs": [
    {
     "name": "stdout",
     "output_type": "stream",
     "text": [
      "Superset: true\n",
      "Subset: false\n",
      "Subset: true\n",
      "Disjoint names2: false\n",
      "Disjoint names3: true\n"
     ]
    }
   ],
   "source": [
    "const names1 = new Set ([\"John\", \"Jane\", \"Alice\", \"Bob\"]);\n",
    "const names2 = new Set (['John', 'Jane']);\n",
    "const names3 = new Set (['Zoe']);\n",
    "console.log(`Superset: ${names1.isSupersetOf(names2)}`);\n",
    "console.log(`Subset: ${names1.isSubsetOf(names2)}`);\n",
    "console.log(`Subset: ${names2.isSubsetOf(names1)}`);\n",
    "\n",
    "console.log(`Disjoint names2: ${names1.isDisjointFrom(names2)}`);\n",
    "console.log(`Disjoint names3: ${names1.isDisjointFrom(names3)}`);\n"
   ]
  }
 ],
 "metadata": {
  "kernelspec": {
   "display_name": "Deno",
   "language": "typescript",
   "name": "deno"
  },
  "language_info": {
   "codemirror_mode": "typescript",
   "file_extension": ".ts",
   "mimetype": "text/x.typescript",
   "name": "typescript",
   "nbconvert_exporter": "script",
   "pygments_lexer": "typescript",
   "version": "5.6.2"
  }
 },
 "nbformat": 4,
 "nbformat_minor": 2
}
