{
 "cells": [
  {
   "cell_type": "markdown",
   "metadata": {},
   "source": [
    "### Animation Loop Logic\n",
    "1. Update State\n",
    "2. Clear Canvas\n",
    "3. Draw Image\n",
    "4. Wait a Short Time\n",
    "5. Repeat"
   ]
  },
  {
   "cell_type": "code",
   "execution_count": null,
   "metadata": {
    "vscode": {
     "languageId": "typescript"
    }
   },
   "outputs": [],
   "source": [
    "let canvas = document.querySelector(\"#canvas\");\n",
    "let ctx = canvas.getContext(\"2d\");\n",
    "\n",
    "let width = canvas.width;\n",
    "let height = canvas.height;\n",
    "\n",
    "let x=0;\n",
    "let y=0;\n",
    "\n",
    "function drawCircle(x,y) {\n",
    "  ctx.fillStyle = \"rgb(0,128,255)\";\n",
    "  ctx.beginPath();\n",
    "  ctx.arc(x,y,10,0,Math.PI * 2, false);\n",
    "  ctx.fill();\n",
    "}\n",
    "\n",
    "function update() {\n",
    "  x+=1;\n",
    "  y+=1;\n",
    "}\n",
    "\n",
    "function draw() {\n",
    "  ctx.clearRect(0,0,width, height);\n",
    "  drawCircle(x,y);\n",
    "}\n",
    "\n",
    "setInterval( () => {\n",
    "  update();\n",
    "  draw();\n",
    "},100);\n"
   ]
  },
  {
   "cell_type": "markdown",
   "metadata": {},
   "source": [
    "### Game Loop Logic\n",
    "1. Clear Canvas\n",
    "2. Draw Image\n",
    "3. Get Player Input\n",
    "4. Update State\n",
    "5. Check Collisions\n",
    "6. Wait a Short Time\n",
    "7. Repeat\n",
    "\n",
    "*Note: This is similiar to the Animation Loop Logic"
   ]
  }
 ],
 "metadata": {
  "language_info": {
   "name": "python"
  }
 },
 "nbformat": 4,
 "nbformat_minor": 2
}
