{
 "cells": [
  {
   "cell_type": "code",
   "execution_count": 1,
   "metadata": {},
   "outputs": [
    {
     "data": {
      "text/html": [
       "<b>Whoa</b"
      ]
     },
     "execution_count": 1,
     "metadata": {},
     "output_type": "execute_result"
    }
   ],
   "source": [
    "import {html} from \"https://deno.land/x/display/mod.ts\";\n",
    "\n",
    "html`<b>Whoa</b`;"
   ]
  },
  {
   "cell_type": "code",
   "execution_count": 2,
   "metadata": {},
   "outputs": [
    {
     "ename": "TypeError",
     "evalue": "Could not find a matching package for 'npm:nodejs-polars' in the node_modules directory. Ensure you have all your JSR and npm dependencies listed in your deno.json or package.json, then run `deno install`. Alternatively, turn on auto-install by specifying `\"nodeModulesDir\": \"auto\"` in your deno.json file.",
     "output_type": "error",
     "traceback": [
      "Stack trace:",
      "TypeError: Could not find a matching package for 'npm:nodejs-polars' in the node_modules directory. Ensure you have all your JSR and npm dependencies listed in your deno.json or package.json, then run `deno install`. Alternatively, turn on auto-install by specifying `\"nodeModulesDir\": \"auto\"` in your deno.json file.",
      "    at async <anonymous>:1:48"
     ]
    }
   ],
   "source": [
    "import pl from \"npm:nodejs-polars\";\n",
    "import {display} from \"https://deno.land/x/display@v0.1.1/mod.ts\";\n",
    "\n",
    "let response = await fetch(\n",
    "  \"https://cdn.jsdelivr.net/npm/world-atlas@1/world/110m.tsv\",\n",
    ");\n",
    "let data = await response.text();"
   ]
  },
  {
   "cell_type": "code",
   "execution_count": 3,
   "metadata": {},
   "outputs": [
    {
     "name": "stdout",
     "output_type": "stream",
     "text": [
      "\u001b[32mDownloading\u001b[39m https://github.com/DjDeveloperr/skia_canvas/releases/download/0.5.8/native_canvas.dll\n"
     ]
    },
    {
     "data": {
      "image/png": "[encoded data removed]"
     },
     "execution_count": 3,
     "metadata": {},
     "output_type": "execute_result"
    }
   ],
   "source": [
    "import  {display} from \"https://deno.land/x/display@v0.1.1/mod.ts\";\n",
    "import { createCanvas, Image, Path2D } from \"https://deno.land/x/skia_canvas/mod.ts\";\n",
    "\n",
    "const canvas = createCanvas(400,300);\n",
    "const ctx = canvas.getContext(\"2d\");\n",
    "\n",
    "display(canvas);"
   ]
  }
 ],
 "metadata": {
  "kernelspec": {
   "display_name": "Deno",
   "language": "typescript",
   "name": "deno"
  },
  "language_info": {
   "codemirror_mode": "typescript",
   "file_extension": ".ts",
   "mimetype": "text/x.typescript",
   "name": "typescript",
   "nbconvert_exporter": "script",
   "pygments_lexer": "typescript",
   "version": "5.6.2"
  }
 },
 "nbformat": 4,
 "nbformat_minor": 2
}
