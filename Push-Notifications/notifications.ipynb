{
 "cells": [
  {
   "cell_type": "markdown",
   "metadata": {},
   "source": [
    "### Request Permission\n",
    "Requesting permission using the Notification API Interface.  The requestPermission method is a promise returning whether you have permission.  Permissions:\n",
    "- denied:  The user has explicity denied permission\n",
    "- granted: The user has granted permission\n",
    "- default: The user choice is unknown and the browse be denied"
   ]
  },
  {
   "cell_type": "code",
   "execution_count": null,
   "metadata": {},
   "outputs": [],
   "source": [
    "Notification.requestPermission().then(perm => {\n",
    "  if (perm === \"granted\") {\n",
    "    new Notification(\"This is a notification\");\n",
    "  }\n",
    "});"
   ]
  },
  {
   "cell_type": "markdown",
   "metadata": {},
   "source": [
    "Per MDN Web Docs you could do it this way.\n",
    "- https://developer.mozilla.org/en-US/docs/Web/API/Notification/requestPermission_static"
   ]
  },
  {
   "cell_type": "code",
   "execution_count": null,
   "metadata": {},
   "outputs": [],
   "source": [
    "if (!(\"Notification\" in window)) {\n",
    "  alert(\"This browser does not support desktop notification\");\n",
    "} else if (Notification.permission === \"granted\") {\n",
    "  const notification = new Notificaiton(\"Hi there!\");\n",
    "} else if (Notification.permission !=== \"denied\") {\n",
    "  Notification.requestPermission().then( (permission) => {\n",
    "    if( permission === \"granted\") {\n",
    "      const notification = new Notification(\"Hi There\");\n",
    "    }\n",
    "  });\n",
    "}"
   ]
  },
  {
   "cell_type": "markdown",
   "metadata": {},
   "source": [
    "### Adding Additional Information to the Notification\n",
    "An additional argument, Options, can be passed to the Notifcation API that allows for additional information display.  This is based in with the body argument."
   ]
  },
  {
   "cell_type": "code",
   "execution_count": null,
   "metadata": {},
   "outputs": [],
   "source": [
    "new Notification(\"My Notification\", {body: \"This is my notification you need to read\"} );"
   ]
  },
  {
   "cell_type": "markdown",
   "metadata": {},
   "source": [
    "### Additional data\n",
    "You can pass custom data through the Notification by using the \"data\" property to pass the information.\n",
    "\n",
    "> Note: There are addtional properties that can be used, see -> https://developer.mozilla.org/en-US/docs/Web/API/Notification under the **Instance properties** section"
   ]
  },
  {
   "cell_type": "code",
   "execution_count": null,
   "metadata": {},
   "outputs": [],
   "source": [
    "new Notification(\"My Notification\", {\n",
    "  body: \"This is my notification you need to read\",\n",
    "  data: { myData: \"Something I want to store for later\"},\n",
    "});"
   ]
  },
  {
   "cell_type": "markdown",
   "metadata": {},
   "source": [
    "You can attach an Event Listner to the notification such that you can monitor:\n",
    "- click: Fires when the user clicks the Notification \n",
    "- close: Fires when the user closes the Notification\n",
    "- error: Fires when the Notification encounters an error\n",
    "- show: Fires when the Notification is displayed"
   ]
  },
  {
   "cell_type": "code",
   "execution_count": null,
   "metadata": {},
   "outputs": [],
   "source": [
    "const notification = new Notification(\"My Notification\", {\n",
    "  body: \"This is my notification you need to read\",\n",
    "  data: { myData: \"Something I want to store for later\"},\n",
    "});\n",
    "\n",
    "notification.addEventListener(\"click\", e => {\n",
    "  console.log(\"The notification was clicked on\", e);\n",
    "});"
   ]
  },
  {
   "cell_type": "markdown",
   "metadata": {},
   "source": [
    "### Using the Tag Property\n",
    "To keep the notification from display multiple times we can use the \"tag\" property with a unique value.  This will keep the notification from displaying multiple times, i.e. keep the notifications from stacking on top of each other."
   ]
  },
  {
   "cell_type": "code",
   "execution_count": null,
   "metadata": {},
   "outputs": [],
   "source": [
    "const notification = new Notification(\"My Notification\", {\n",
    "  body: \"This is my notification you need to read\",\n",
    "  data: { myData: \"Something I want to store for later\"},\n",
    "  tag: \"My notification 001\"\n",
    "});"
   ]
  },
  {
   "cell_type": "markdown",
   "metadata": {},
   "source": [
    "### Notifying the User they have left the page"
   ]
  },
  {
   "cell_type": "code",
   "execution_count": null,
   "metadata": {},
   "outputs": [],
   "source": [
    "let notifyLoss;\n",
    "let interval;\n",
    "document.addEventListener(\"visibilitychange\", () => {\n",
    "  if (document.visibilityState === \"hidden\") {\n",
    "    const leaveDate = new Date();\n",
    "    interval = setInterval(() => {\n",
    "      const seconds = Math.round((new Date() - leaveDate) / 1000);\n",
    "      notifyLoss = new Notification(\"Please Come back\", {\n",
    "        body: `You have been gone for ${seconds}`,\n",
    "        tag: \"Come Back\",\n",
    "      });\n",
    "    }, 100);\n",
    "  } else {\n",
    "    if (interval) clearInterval(interval);\n",
    "    if (notifyLoss) notification.close();\n",
    "  }\n",
    "});"
   ]
  }
 ],
 "metadata": {
  "kernelspec": {
   "display_name": "Deno",
   "language": "typescript",
   "name": "deno"
  },
  "language_info": {
   "codemirror_mode": "typescript",
   "file_extension": ".ts",
   "mimetype": "text/x.typescript",
   "name": "typescript",
   "nbconvert_exporter": "script",
   "pygments_lexer": "typescript",
   "version": "5.6.2"
  }
 },
 "nbformat": 4,
 "nbformat_minor": 2
}
