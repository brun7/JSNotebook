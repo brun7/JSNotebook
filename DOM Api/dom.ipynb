{
 "cells": [
  {
   "cell_type": "code",
   "execution_count": 1,
   "metadata": {},
   "outputs": [
    {
     "ename": "ReferenceError",
     "evalue": "document is not defined",
     "output_type": "error",
     "traceback": [
      "Stack trace:",
      "ReferenceError: document is not defined",
      "    at <anonymous>:1:22"
     ]
    }
   ],
   "source": [
    "document.getElementById(\"main-heading\") // Returns HTML Element with the specified ID\n",
    "document.querySelectorAll(\".highlight\") // Returns an array (NodeList) like object containing all elements that match the selector\n",
    "document.querySelectorAll(\"#main-heading strong\") \n",
    "document.querySelector(\"#main-heading\") // Returns only the first element matching the selector\n",
    "\n",
    "let heading = document.querySelector(\"#main-heading\");\n",
    "heading.addEventListener(\"click\", () => {\n",
    "  console.log(\"The heading was clicked!\");\n",
    "});"
   ]
  }
 ],
 "metadata": {
  "kernelspec": {
   "display_name": "Deno",
   "language": "typescript",
   "name": "deno"
  },
  "language_info": {
   "codemirror_mode": "typescript",
   "file_extension": ".ts",
   "mimetype": "text/x.typescript",
   "name": "typescript",
   "nbconvert_exporter": "script",
   "pygments_lexer": "typescript",
   "version": "5.6.2"
  }
 },
 "nbformat": 4,
 "nbformat_minor": 2
}
