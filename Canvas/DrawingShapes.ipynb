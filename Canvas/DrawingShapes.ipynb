{
 "cells": [
  {
   "cell_type": "markdown",
   "metadata": {},
   "source": [
    "### The HTML for setting up the canvas and gadgets\n",
    "```HTML\n",
    "<!DOCTYPE html>\n",
    "<html lang=\"en\">\n",
    "  <head>\n",
    "    <meta charset=\"UTF-8\" />\n",
    "    <meta name=\"viewport\" content=\"width=device-width, initial-scale=1.0\" />\n",
    "    <title>Interactive Canvas</title>\n",
    "  </head>\n",
    "  <body>\n",
    "    <canvas id=\"canvas\" width=\"300\" height=\"300\"></canvas>\n",
    "    <div>\n",
    "      <button id=\"clear\">clear</button>\n",
    "      <input id=\"opacity\" type=\"range\" min=\"0\" max=\"1\" value=\"1\" step=\"0.1\" />\n",
    "      <label for=\"opacity\">Opacity</label>\n",
    "    </div>\n",
    "    <br>\n",
    "    <div>\n",
    "      <label for=\"radius\">Radius</label>\n",
    "      <input id=\"radius\" type=\"range\" min=\"1\" max=\"50\" value=\"1\" step=\"1\" />\n",
    "      <label id=\"radiusValue\">1</label>\n",
    "    </div>\n",
    "    <br>\n",
    "    <div>\n",
    "      <input id=\"drawCircle\" type=\"radio\" name=\"drawStyle\" value=\"circle\" checked>\n",
    "      <label for=\"drawCircle\">Draw Circle</label>\n",
    "      <input id=\"drawSquare\" type=\"radio\" name=\"drawStyle\" value=\"square\">\n",
    "      <label for=\"drawSquare\">Draw Square</label>\n",
    "    </div>\n",
    "    <br>\n",
    "    <div>\n",
    "      <div>\n",
    "        <label for=\"red\">R</label>\n",
    "        <input id=\"red\" type=\"range\" min=\"0\" max=\"255\" value=\"0\" step=\"1\" />\n",
    "        <label id=\"redValue\">0</label>\n",
    "      </div>\n",
    "      <div>\n",
    "        <label for=\"green\">G</label>\n",
    "        <input id=\"green\" type=\"range\" min=\"0\" max=\"255\" value=\"0\" step=\"1\" />\n",
    "        <label id=\"greenValue\">0</label>\n",
    "      </div>\n",
    "      <div>\n",
    "        <label for=\"blue\">B</label>\n",
    "        <input id=\"blue\" type=\"range\" min=\"0\" max=\"255\" value=\"0\" step=\"1\" />\n",
    "        <label id=\"blueValue\">0</label>\n",
    "      </div>\n",
    "    </div>\n",
    "    <script src=\"script.js\"></script>\n",
    "  </body>\n",
    "</html>\n",
    "\n",
    "```"
   ]
  },
  {
   "cell_type": "markdown",
   "metadata": {},
   "source": [
    "### Creating the Canvas and initializing variables"
   ]
  },
  {
   "cell_type": "code",
   "execution_count": null,
   "metadata": {
    "vscode": {
     "languageId": "typescript"
    }
   },
   "outputs": [],
   "source": [
    "let canvas = document.querySelector(\"#canvas\");\n",
    "let ctx = canvas.getContext(\"2d\");\n",
    "\n",
    "let width = canvas.width;\n",
    "let height = canvas.height;\n",
    "let opacity = 1;\n",
    "let radius = 1;\n",
    "\n",
    "let red = 0;\n",
    "let green = 0;\n",
    "let blue = 0;"
   ]
  },
  {
   "cell_type": "markdown",
   "metadata": {},
   "source": [
    "### Draw Circle Funtion"
   ]
  },
  {
   "cell_type": "code",
   "execution_count": null,
   "metadata": {
    "vscode": {
     "languageId": "typescript"
    }
   },
   "outputs": [],
   "source": [
    "function drawCircle(x, y) {\n",
    "  ctx.fillStyle = `rgba(${red},${green},${blue},${opacity})`;\n",
    "  ctx.beginPath();\n",
    "  ctx.arc(x, y, radius, 0, Math.PI * 2, false);\n",
    "  ctx.fill();\n",
    "  ctx.strokePath = 'black';\n",
    "  ctx.stroke();\n",
    "}"
   ]
  },
  {
   "cell_type": "markdown",
   "metadata": {},
   "source": [
    "Draw Square Function"
   ]
  },
  {
   "cell_type": "code",
   "execution_count": null,
   "metadata": {
    "vscode": {
     "languageId": "typescript"
    }
   },
   "outputs": [],
   "source": [
    "function drawSquare(x, y) {\n",
    "  ctx.lineWidth = 1;\n",
    "  ctx.fillStyle = `rgba(${red},${green},${blue},${opacity})`;\n",
    "  ctx.fillRect(x, y, 20, 20);\n",
    "}"
   ]
  },
  {
   "cell_type": "markdown",
   "metadata": {},
   "source": [
    "### The Event Listeners"
   ]
  },
  {
   "cell_type": "code",
   "execution_count": null,
   "metadata": {
    "vscode": {
     "languageId": "typescript"
    }
   },
   "outputs": [],
   "source": [
    "canvas.addEventListener(\"click\", (e) => {\n",
    "  const selectedRadioButton = document.querySelector('input[name=\"drawStyle\"]:checked');\n",
    "  if(selectedRadioButton.value === \"circle\")\n",
    "    drawCircle(e.offsetX, e.offsetY);\n",
    "  else\n",
    "    drawSquare(e.offsetX, e.offsetY);\n",
    "});\n",
    "\n",
    "document.querySelector(\"#clear\").addEventListener(\"click\", () => {\n",
    "  ctx.clearRect(0, 0, width, height);\n",
    "});"
   ]
  },
  {
   "cell_type": "markdown",
   "metadata": {},
   "source": [
    "### The Change Listeners"
   ]
  },
  {
   "cell_type": "code",
   "execution_count": null,
   "metadata": {
    "vscode": {
     "languageId": "typescript"
    }
   },
   "outputs": [],
   "source": [
    "document.querySelector(\"#opacity\").addEventListener(\"change\", (e) => {\n",
    "  opacity = e.target.value;\n",
    "});\n",
    "\n",
    "document.querySelector(\"#radius\").addEventListener(\"change\", (e) => {\n",
    "  radius = e.target.value;\n",
    "  document.querySelector(\"#radiusValue\").textContent = radius;\n",
    "});\n",
    "\n",
    "document.querySelector(\"#red\").addEventListener(\"change\", (e) => {\n",
    "  red = e.target.value;\n",
    "  document.querySelector(\"#redValue\").textContent = red;\n",
    "});\n",
    "\n",
    "document.querySelector(\"#green\").addEventListener(\"change\", (e) => {\n",
    "  green = e.target.value;\n",
    "  document.querySelector(\"#greenValue\").textContent = green;\n",
    "});\n",
    "\n",
    "document.querySelector(\"#blue\").addEventListener(\"change\", (e) => {\n",
    "  blue = e.target.value;\n",
    "  document.querySelector(\"#blueValue\").textContent = blue;\n",
    "});"
   ]
  }
 ],
 "metadata": {
  "language_info": {
   "name": "python"
  }
 },
 "nbformat": 4,
 "nbformat_minor": 2
}
