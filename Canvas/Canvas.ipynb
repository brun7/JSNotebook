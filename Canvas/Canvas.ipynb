{
 "cells": [
  {
   "cell_type": "markdown",
   "metadata": {},
   "source": [
    "## Creating the Canvas\n",
    "Your HTML must have a canvas tag, example:\n",
    "``` HTML\n",
    "<body>\n",
    "    <canvas id=\"canvas\" width=\"300\" height=\"300\"></canvas>\n",
    "    <script src =\"./script.js\"></script>\n",
    "</body>\n",
    "```"
   ]
  },
  {
   "cell_type": "code",
   "execution_count": null,
   "metadata": {},
   "outputs": [],
   "source": [
    "let canvas = document.querySelector(\"#canvas\");\n",
    "let ctx = canvas.getContext(\"2d\");"
   ]
  },
  {
   "cell_type": "markdown",
   "metadata": {},
   "source": [
    "### Creating a Filled Shape"
   ]
  },
  {
   "cell_type": "code",
   "execution_count": null,
   "metadata": {},
   "outputs": [],
   "source": [
    "const colors = [\"red\", \"green\", \"blue\", \"orange\", \"yellow\", \"cyan\"];\n",
    "let xPos = 20;\n",
    "colors.forEach((color, index) => {\n",
    "  console.log(color, index);\n",
    "  setTimeout(() => {\n",
    "    ctx.fillStyle = color;\n",
    "    ctx.fillRect(xPos, 10, 20, 20);\n",
    "    xPos += 20;\n",
    "  }, index * 2000);\n",
    "});"
   ]
  },
  {
   "cell_type": "markdown",
   "metadata": {},
   "source": [
    "### Creating a Rectangle Shape"
   ]
  },
  {
   "cell_type": "code",
   "execution_count": null,
   "metadata": {},
   "outputs": [],
   "source": [
    "ctx.lineWidth = 2;\n",
    "ctx.strokeStyle = \"red\";\n",
    "ctx.strokeRect(10, 10, 200, 100);\n",
    "\n",
    "ctx.strokeStyle = \"orange\";\n",
    "ctx.strokeRect(20, 20, 180, 80);\n",
    "\n",
    "ctx.strokeStyle = \"yellow\";\n",
    "ctx.strokeRect(30, 30, 160, 60);\n",
    "\n",
    "ctx.strokeStyle = \"green\";\n",
    "ctx.strokeRect(40, 40, 140, 40);\n",
    "\n",
    "ctx.strokeStyle = \"blue\";\n",
    "ctx.strokeRect(50, 50, 120, 20);"
   ]
  },
  {
   "cell_type": "markdown",
   "metadata": {},
   "source": [
    "#### Using a Loop to create the above example"
   ]
  },
  {
   "cell_type": "code",
   "execution_count": null,
   "metadata": {},
   "outputs": [],
   "source": [
    "let xPos = 0;\n",
    "let yPos = 0;\n",
    "let width = 220;\n",
    "let height = 120;\n",
    "const strokeColors = [\"red\", \"orange\", \"yellow\", \"green\", \"blue\"];\n",
    "\n",
    "ctx.lineWidth = 2;\n",
    "strokeColors.forEach((color) => {\n",
    "  ctx.strokeStyle = color;\n",
    "  ctx.strokeRect(xPos+=10, yPos+=10, width-=20, height-=20);\n",
    "});"
   ]
  },
  {
   "cell_type": "markdown",
   "metadata": {},
   "source": [
    "### Drawing other Shapes using Path\n",
    "#### Draw a Triangle"
   ]
  },
  {
   "cell_type": "code",
   "execution_count": null,
   "metadata": {},
   "outputs": [],
   "source": [
    "ctx.fillStyle = \"red\";\n",
    "ctx.beginPath();\n",
    "ctx.moveTo(100, 100);\n",
    "ctx.lineTo(150, 15);\n",
    "ctx.lineTo(200, 100);\n",
    "ctx.lineTo(100, 100);\n",
    "ctx.fill();"
   ]
  },
  {
   "cell_type": "markdown",
   "metadata": {},
   "source": [
    "### Draw a Cirlce\n",
    "First two arguments is the x/y center coordinate of the circle, The third argument is the circle's radius.  The next 2 arguments give the starting and ending angles in radians.  The final argument indicates if the arc should be drawn clockwise (false) or counterclockwise (true) from the starting angel to the end angle."
   ]
  },
  {
   "cell_type": "code",
   "execution_count": null,
   "metadata": {},
   "outputs": [],
   "source": [
    "ctx.fillStyle = \"blue\";\n",
    "ctx.beginPath();\n",
    "ctx.arc(150,150,50,0, Math.PI*2, false);\n",
    "ctx.fill();"
   ]
  },
  {
   "cell_type": "markdown",
   "metadata": {},
   "source": [
    "#### Using Stroke to paint a cirlce"
   ]
  },
  {
   "cell_type": "code",
   "execution_count": null,
   "metadata": {},
   "outputs": [],
   "source": [
    "ctx.strokeStyle = \"red\";\n",
    "ctx.beginPath();\n",
    "ctx.arc(150,250,50,0, Math.PI*2, false);\n",
    "ctx.stroke();"
   ]
  }
 ],
 "metadata": {
  "kernelspec": {
   "display_name": "Deno",
   "language": "typescript",
   "name": "deno"
  },
  "language_info": {
   "codemirror_mode": "typescript",
   "file_extension": ".ts",
   "mimetype": "text/x.typescript",
   "name": "typescript",
   "nbconvert_exporter": "script",
   "pygments_lexer": "typescript",
   "version": "5.6.2"
  }
 },
 "nbformat": 4,
 "nbformat_minor": 2
}
