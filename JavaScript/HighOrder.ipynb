{
 "cells": [
  {
   "cell_type": "code",
   "execution_count": 1,
   "metadata": {},
   "outputs": [
    {
     "name": "stdout",
     "output_type": "stream",
     "text": [
      "[Bracket Me]\n",
      "{Brace Me!}\n"
     ]
    }
   ],
   "source": [
    "function makeWrapper(prefix, suffix) {\n",
    "  return function (text) {\n",
    "    return `${prefix}${text}${suffix}`;\n",
    "  };\n",
    "}\n",
    "\n",
    "let bracketWrapper = makeWrapper(\"[\", \"]\");\n",
    "console.log(bracketWrapper(\"Bracket Me\"));\n",
    "\n",
    "let bracesWrapper = makeWrapper(\"{\", \"}\");\n",
    "console.log(bracesWrapper(\"Brace Me!\"));"
   ]
  }
 ],
 "metadata": {
  "kernelspec": {
   "display_name": "Deno",
   "language": "typescript",
   "name": "deno"
  },
  "language_info": {
   "codemirror_mode": "typescript",
   "file_extension": ".ts",
   "mimetype": "text/x.typescript",
   "name": "typescript",
   "nbconvert_exporter": "script",
   "pygments_lexer": "typescript",
   "version": "5.6.2"
  }
 },
 "nbformat": 4,
 "nbformat_minor": 2
}
