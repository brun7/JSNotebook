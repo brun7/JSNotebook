{
 "cells": [
  {
   "cell_type": "code",
   "execution_count": null,
   "metadata": {},
   "outputs": [],
   "source": [
    "const name = \"brian\";\n",
    "console.time();\n",
    "for (const [index, char] of name.split(\"\").entries()) {\n",
    "  console.log(`${char} ${index}`);\n",
    "}\n",
    "console.timeEnd();\n",
    "console.log(\"\\n\");"
   ]
  },
  {
   "cell_type": "code",
   "execution_count": null,
   "metadata": {},
   "outputs": [],
   "source": [
    "const name1 = [\"b\", \"r\", \"i\", \"a\", \"n\"];\n",
    "console.time();\n",
    "for (const [index, char] of name1.entries()) {\n",
    "  console.log(`${char} ${index}`);\n",
    "}\n",
    "console.timeEnd();\n",
    "console.log(\"\\n\");"
   ]
  },
  {
   "cell_type": "code",
   "execution_count": null,
   "metadata": {},
   "outputs": [],
   "source": [
    "const name2 = \"brian\";\n",
    "console.time();\n",
    "for (let i = 0; i < name2.length; ++i) {\n",
    "  console.log(`${name2[i]} ${i}`);\n",
    "}\n",
    "console.timeEnd();\n",
    "console.log(\"\\n\");"
   ]
  },
  {
   "cell_type": "code",
   "execution_count": null,
   "metadata": {},
   "outputs": [],
   "source": [
    "function sayHello(name) {\n",
    "  return `Hello, ${name}`;\n",
    "}\n",
    "const greeting = sayHello(\"Brian\").toUpperCase();\n",
    "console.log(greeting);"
   ]
  }
 ],
 "metadata": {
  "kernelspec": {
   "display_name": "Deno",
   "language": "typescript",
   "name": "deno"
  },
  "language_info": {
   "codemirror_mode": "typescript",
   "file_extension": ".ts",
   "mimetype": "text/x.typescript",
   "name": "typescript",
   "nbconvert_exporter": "script",
   "pygments_lexer": "typescript",
   "version": "5.6.2"
  }
 },
 "nbformat": 4,
 "nbformat_minor": 2
}
