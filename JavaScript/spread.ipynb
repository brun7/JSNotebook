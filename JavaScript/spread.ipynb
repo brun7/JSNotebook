{
 "cells": [
  {
   "cell_type": "code",
   "execution_count": 1,
   "metadata": {},
   "outputs": [
    {
     "name": "stdout",
     "output_type": "stream",
     "text": [
      "My name is Nick and my favorite colors are Red, green, Blue\n"
     ]
    }
   ],
   "source": [
    "let myColors = (name, ...favoriteColors) => {\n",
    "  if (favoriteColors.length === 0) {\n",
    "    console.log(\"No colors were defined.\");\n",
    "    return;\n",
    "  }\n",
    "  let colorString = favoriteColors.join(\", \");\n",
    "  console.log(\n",
    "    `My name is ${name} and my favorite colors are ${colorString}`\n",
    "  );\n",
    "};\n",
    "myColors(\"Nick\", \"Red\", \"green\", \"Blue\");"
   ]
  }
 ],
 "metadata": {
  "kernelspec": {
   "display_name": "Deno",
   "language": "typescript",
   "name": "deno"
  },
  "language_info": {
   "codemirror_mode": "typescript",
   "file_extension": ".ts",
   "mimetype": "text/x.typescript",
   "name": "typescript",
   "nbconvert_exporter": "script",
   "pygments_lexer": "typescript",
   "version": "5.6.2"
  }
 },
 "nbformat": 4,
 "nbformat_minor": 2
}
