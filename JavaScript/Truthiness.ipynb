{
 "cells": [
  {
   "cell_type": "markdown",
   "metadata": {},
   "source": [
    "### Truthiness\n",
    "`!!0` - returns false because 0, null, undefined, \"\" or falsy values.\n",
    "`!!1` - returns true because all non-zero numbers and non-empty strings are truthy.\n",
    "\n",
    "When the `&&` and `||` operators are applied to non-Booleans, they don't return true or false value.  They return one of the original operands."
   ]
  },
  {
   "cell_type": "markdown",
   "metadata": {},
   "source": [
    "### && Operator\n",
    "For the `&&` if the first operand is truthy, the second operand is returned.  If the First operand is falsy, the first operand is returned.  Examples:\n",
    "- 15 && 17 returns 17\n",
    "- 0 && 20 returns 0\n",
    "- undefined && null returns undefined."
   ]
  },
  {
   "cell_type": "markdown",
   "metadata": {},
   "source": [
    "### || Operator\n",
    "For the `||` if the first operand is falsy, it returns the second operand, and if the first operand is truthy, it returns the first operand.  Examples:\n",
    "- \"\" || \"hello\" returns \"hello\"\n",
    "- \"hello\" || \"goodbye\" returns \"hello\""
   ]
  },
  {
   "cell_type": "markdown",
   "metadata": {},
   "source": [
    "### Use Cases for Truthy"
   ]
  },
  {
   "cell_type": "code",
   "execution_count": 2,
   "metadata": {},
   "outputs": [
    {
     "data": {
      "text/plain": [
       "\u001b[32m\"No name provided\"\u001b[39m"
      ]
     },
     "execution_count": 2,
     "metadata": {},
     "output_type": "execute_result"
    }
   ],
   "source": [
    "let name;\n",
    "name = name || \"No name provided\";\n",
    "// output -'No name provided'"
   ]
  },
  {
   "cell_type": "code",
   "execution_count": 3,
   "metadata": {},
   "outputs": [
    {
     "data": {
      "text/plain": [
       "\u001b[32m\"Nick\"\u001b[39m"
      ]
     },
     "execution_count": 3,
     "metadata": {},
     "output_type": "execute_result"
    }
   ],
   "source": [
    "let name = \"Nick\";\n",
    "name = name || \"No name provided\";\n",
    "// output - 'Nick'"
   ]
  },
  {
   "cell_type": "code",
   "execution_count": 4,
   "metadata": {},
   "outputs": [],
   "source": [
    "let score = 0;\n",
    "score && alert (`Your score is ${score}!`);\n",
    "// output - 0\n",
    "\n",
    "++score;\n",
    "score && alert(`Your score is ${score}!`);\n",
    "// output - alert dialog is displayed\n",
    "// output - undefined - becuase alert returns undefined."
   ]
  }
 ],
 "metadata": {
  "kernelspec": {
   "display_name": "Deno",
   "language": "typescript",
   "name": "deno"
  },
  "language_info": {
   "codemirror_mode": "typescript",
   "file_extension": ".ts",
   "mimetype": "text/x.typescript",
   "name": "typescript",
   "nbconvert_exporter": "script",
   "pygments_lexer": "typescript",
   "version": "5.6.2"
  }
 },
 "nbformat": 4,
 "nbformat_minor": 2
}
