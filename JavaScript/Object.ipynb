{
 "cells": [
  {
   "cell_type": "code",
   "execution_count": 1,
   "metadata": {},
   "outputs": [
    {
     "name": "stdout",
     "output_type": "stream",
     "text": [
      "My first name is Brian\n",
      "My last name is Brun\n",
      "My age is 30\n"
     ]
    }
   ],
   "source": [
    "let me = {\n",
    "  \"first name\": \"Brian\",\n",
    "  \"last name\": \"Brun\",\n",
    "  age: \"30\",\n",
    "};\n",
    "for (let key in me) {\n",
    "  console.log(`My ${key} is ${me[key]}`);\n",
    "}"
   ]
  },
  {
   "cell_type": "code",
   "execution_count": 2,
   "metadata": {},
   "outputs": [],
   "source": [
    "class Actor {\n",
    "  constructor(startX = 0, startY = 0) {\n",
    "    this.x = startX;\n",
    "    this.y = startY;\n",
    "  }\n",
    "\n",
    "  move(dx, dy) {\n",
    "    this.x += dx;\n",
    "    this.y += dy;\n",
    "  }\n",
    "\n",
    "  distanceTo(otherActor) {\n",
    "    let dx = otherActor.x - this.x;\n",
    "    let dy = otherActor.y - this.y;\n",
    "    return Math.hypot(dx, dy);\n",
    "  }\n",
    "}\n",
    "\n",
    "class Player extends Actor {\n",
    "  constructor(startX, startY) {\n",
    "    super(startX, startY);\n",
    "    this.hp = 100;\n",
    "  }\n",
    "}\n",
    "\n",
    "class Enemy extends Actor {\n",
    "  attack(player) {\n",
    "    if (this.distanceTo(player) < 4) {\n",
    "      player.hp -= 10;\n",
    "      return true;\n",
    "    } else {\n",
    "      return false;\n",
    "    }\n",
    "  }\n",
    "}\n",
    "\n",
    "class Follower extends Actor {\n",
    "  constructor(startX, startY, player) {\n",
    "    super(startX, startY);\n",
    "    this.player = player;\n",
    "  }\n",
    "\n",
    "  follow() {\n",
    "    this.x = this.player.x;\n",
    "    this.y = this.player.y;\n",
    "  }\n",
    "}\n",
    "\n",
    "let player1 = new Player(2, 2);\n",
    "let enemy1 = new Enemy();\n",
    "let follower = new Follower(0, 0, player1);\n",
    "player1.move(5, 5);\n",
    "follower.follow()"
   ]
  },
  {
   "cell_type": "code",
   "execution_count": 3,
   "metadata": {},
   "outputs": [
    {
     "name": "stdout",
     "output_type": "stream",
     "text": [
      "Miaow!  My name is Kiki\n"
     ]
    }
   ],
   "source": [
    "function Cat(name) {\n",
    "  this.name = name;\n",
    "}\n",
    "Cat.prototype.sayHello = function () {\n",
    "  console.log(`Miaow!  My name is ${this.name}`);\n",
    "};\n",
    "let kiki = new Cat(\"Kiki\");\n",
    "kiki.sayHello();"
   ]
  },
  {
   "cell_type": "code",
   "execution_count": 4,
   "metadata": {},
   "outputs": [
    {
     "name": "stdout",
     "output_type": "stream",
     "text": [
      "Woof! My name is Felix.\n",
      "YAP YAP MY NAME IS YAPPY!!!\n"
     ]
    }
   ],
   "source": [
    "class Dog {\n",
    "  constructor(name) {\n",
    "    this.name = name;\n",
    "  }\n",
    "\n",
    "  sayHello() {\n",
    "    console.log(`Woof! My name is ${this.name}.`);\n",
    "  }\n",
    "\n",
    "  toString() {\n",
    "    return `Dog named ${this.name}`;\n",
    "  }\n",
    "}\n",
    "let felix = new Dog(\"Felix\");\n",
    "let yappy = new Dog(\"Yappy\");\n",
    "\n",
    "yappy.sayHello = function () {\n",
    "  console.log(`YAP YAP MY NAME IS ${this.name.toUpperCase()}!!!`);\n",
    "};\n",
    "\n",
    "felix.sayHello();\n",
    "yappy.sayHello();"
   ]
  }
 ],
 "metadata": {
  "kernelspec": {
   "display_name": "Deno",
   "language": "typescript",
   "name": "deno"
  },
  "language_info": {
   "codemirror_mode": "typescript",
   "file_extension": ".ts",
   "mimetype": "text/x.typescript",
   "name": "typescript",
   "nbconvert_exporter": "script",
   "pygments_lexer": "typescript",
   "version": "5.6.2"
  }
 },
 "nbformat": 4,
 "nbformat_minor": 2
}
