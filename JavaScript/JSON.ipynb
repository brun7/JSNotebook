{
 "cells": [
  {
   "cell_type": "markdown",
   "metadata": {},
   "source": [
    "Master JSON\n",
    "https://www.youtube.com/watch?v=KMLOWkGAxVc"
   ]
  },
  {
   "cell_type": "code",
   "execution_count": null,
   "metadata": {},
   "outputs": [],
   "source": [
    "const product_details = await Deno.readTextFile('product_details.json');\n",
    "const product = JSON.parse(product_details);\n",
    "console.log(product);\n",
    "\n",
    "console.log(`Product Name: ${product.product_name}`);\n",
    "console.log(`Product Name: ${product['product_name']}`);\n",
    "\n",
    "const {product_name} = product;\n",
    "console.log(`Product Name: ${product_name}`);\n",
    "\n",
    "console.log(`Storage: ${product.specs.storage}`);\n",
    "console.log(`Storage: ${product[\"specs\"][\"storage\"]}`);\n"
   ]
  },
  {
   "cell_type": "markdown",
   "metadata": {},
   "source": [
    "Example of fetch to read the json file."
   ]
  },
  {
   "cell_type": "code",
   "execution_count": null,
   "metadata": {},
   "outputs": [],
   "source": [
    "fetch('http://localhost:8000/product_details.json')\n",
    "  .then(response => response.json())\n",
    "  .then(product => {\n",
    "    console.log(product.product_name);\n",
    "  })\n",
    "  .catch(error => console.error('Error fetching the file:', error));"
   ]
  }
 ],
 "metadata": {
  "kernelspec": {
   "display_name": "Deno",
   "language": "typescript",
   "name": "deno"
  },
  "language_info": {
   "codemirror_mode": "typescript",
   "file_extension": ".ts",
   "mimetype": "text/x.typescript",
   "name": "typescript",
   "nbconvert_exporter": "script",
   "pygments_lexer": "typescript",
   "version": "5.6.2"
  }
 },
 "nbformat": 4,
 "nbformat_minor": 2
}
