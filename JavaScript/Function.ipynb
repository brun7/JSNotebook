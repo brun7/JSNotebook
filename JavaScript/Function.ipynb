{
 "cells": [
  {
   "cell_type": "code",
   "execution_count": 1,
   "metadata": {},
   "outputs": [
    {
     "data": {
      "text/plain": [
       "\u001b[32m\"Two\"\u001b[39m"
      ]
     },
     "execution_count": 1,
     "metadata": {},
     "output_type": "execute_result"
    }
   ],
   "source": [
    "function numToEnglish(num) {\n",
    "  const numEnglish = [\"Zero\", \"One\", \"Two\", \"Three\", \"Four\", \"Five\"];\n",
    "  if (num < 0 || num > 5) {\n",
    "    return `Number of range of 0-5: ${num}`;\n",
    "  }\n",
    "  return numEnglish[num];\n",
    "}\n",
    "numToEnglish(2);"
   ]
  },
  {
   "cell_type": "code",
   "execution_count": 3,
   "metadata": {},
   "outputs": [
    {
     "data": {
      "text/plain": [
       "\u001b[32m\"Zero\"\u001b[39m"
      ]
     },
     "execution_count": 3,
     "metadata": {},
     "output_type": "execute_result"
    }
   ],
   "source": [
    "let numToEnglish1 = function (num) {\n",
    "  const numEnglish = [\"Zero\", \"One\", \"Two\", \"Three\", \"Four\", \"Five\"];\n",
    "  if (num < 0 || num > 5) {\n",
    "    return `Number of range of 0-5: ${num}`;\n",
    "  }\n",
    "  return numEnglish[num];\n",
    "};\n",
    "numToEnglish1(0);"
   ]
  },
  {
   "cell_type": "code",
   "execution_count": 4,
   "metadata": {},
   "outputs": [
    {
     "data": {
      "text/plain": [
       "\u001b[32m\"Five\"\u001b[39m"
      ]
     },
     "execution_count": 4,
     "metadata": {},
     "output_type": "execute_result"
    }
   ],
   "source": [
    "let numToEnglish2 = (num) => {\n",
    "  const numEnglish = [\"Zero\", \"One\", \"Two\", \"Three\", \"Four\", \"Five\"];\n",
    "  if (num < 0 || num > 5) {\n",
    "    return `Number of range of 0-5: ${num}`;\n",
    "  }\n",
    "  return numEnglish[num];\n",
    "};\n",
    "\n",
    "numToEnglish2(5);"
   ]
  },
  {
   "cell_type": "code",
   "execution_count": 6,
   "metadata": {},
   "outputs": [
    {
     "name": "stdout",
     "output_type": "stream",
     "text": [
      "callMeAlabama called 4\n"
     ]
    }
   ],
   "source": [
    "let numXCalled = 0;\n",
    "function callMeAlabama() {\n",
    "  ++numXCalled;\n",
    "}\n",
    "callMeAlabama();\n",
    "callMeAlabama();\n",
    "callMeAlabama();\n",
    "callMeAlabama();\n",
    "console.log(`callMeAlabama called ${numXCalled}`);"
   ]
  },
  {
   "cell_type": "code",
   "execution_count": 13,
   "metadata": {},
   "outputs": [
    {
     "name": "stdout",
     "output_type": "stream",
     "text": [
      "callMeAlabama called 3\n"
     ]
    }
   ],
   "source": [
    "let numXCalled = 0;\n",
    "let callMeAlabama1 = function () {\n",
    "  ++numXCalled;\n",
    "};\n",
    "callMeAlabama1();\n",
    "callMeAlabama1();\n",
    "callMeAlabama1();\n",
    "console.log(`callMeAlabama called ${numXCalled}`);"
   ]
  },
  {
   "cell_type": "code",
   "execution_count": 12,
   "metadata": {},
   "outputs": [
    {
     "name": "stdout",
     "output_type": "stream",
     "text": [
      "callMeAlabama called 2\n"
     ]
    }
   ],
   "source": [
    "let numXCalled = 0;\n",
    "let callMeAlabama2 = () => ++numXCalled;\n",
    "callMeAlabama2();\n",
    "callMeAlabama2();\n",
    "console.log(`callMeAlabama called ${numXCalled}`);"
   ]
  },
  {
   "cell_type": "code",
   "execution_count": 14,
   "metadata": {},
   "outputs": [
    {
     "name": "stdout",
     "output_type": "stream",
     "text": [
      "2025-02-05T21:00:29.054Z\n"
     ]
    }
   ],
   "source": [
    "// function printDateTime() {\n",
    "//   console.log(new Date());\n",
    "// }\n",
    "// let printDateTime = function () {\n",
    "//   console.log(new Date());\n",
    "// };\n",
    "let printDateTime = () => console.log(new Date());\n",
    "printDateTime();"
   ]
  }
 ],
 "metadata": {
  "kernelspec": {
   "display_name": "Deno",
   "language": "typescript",
   "name": "deno"
  },
  "language_info": {
   "codemirror_mode": "typescript",
   "file_extension": ".ts",
   "mimetype": "text/x.typescript",
   "name": "typescript",
   "nbconvert_exporter": "script",
   "pygments_lexer": "typescript",
   "version": "5.6.2"
  }
 },
 "nbformat": 4,
 "nbformat_minor": 2
}
