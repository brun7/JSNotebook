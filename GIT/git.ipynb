{
 "cells": [
  {
   "cell_type": "markdown",
   "metadata": {},
   "source": [
    "### GIT Commands\n",
    "---\n",
    "```\n",
    "GIT:\n",
    "  - git branch -vv    Shows remote for which a branch is a part of\n",
    "  - git push origin branchName\n",
    "  - git checkout -b serverfix origin/serverfix   Checkout a branch on the remote\n",
    "  - git push --set-upstream origin Brun4\n",
    "  - git log -S search git\n",
    "  - git reset HEAD~       // Undo a recent commit\n",
    "```"
   ]
  },
  {
   "cell_type": "markdown",
   "metadata": {},
   "source": [
    "### Example GIT Workflow\n",
    "---\n",
    "\n",
    "```\n",
    "Git checkout main\n",
    "Git pull\n",
    "Git checkout -b [Branch name]\n",
    "Git add .\n",
    "Git commit -m \"\"\n",
    "Git checkout main\n",
    "Git pull main\n",
    "Git checkout [Branch name]\n",
    "Git rebase main\n",
    "Git push --set-upstream origin [Branch name]\n",
    "Git branch -d [branch name]\n",
    "```"
   ]
  }
 ],
 "metadata": {
  "language_info": {
   "name": "python"
  }
 },
 "nbformat": 4,
 "nbformat_minor": 2
}
